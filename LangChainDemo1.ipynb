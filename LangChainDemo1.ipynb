{
  "nbformat": 4,
  "nbformat_minor": 0,
  "metadata": {
    "colab": {
      "provenance": [],
      "authorship_tag": "ABX9TyO2vN049DWURSuES3+RTDqZ"
    },
    "kernelspec": {
      "name": "python3",
      "display_name": "Python 3"
    },
    "language_info": {
      "name": "python"
    }
  },
  "cells": [
    {
      "cell_type": "code",
      "execution_count": null,
      "metadata": {
        "id": "Tdc4uO3UZ9AL"
      },
      "outputs": [],
      "source": [
        "!pip install -qU langchain faiss-cpu openai pypdf tiktoken"
      ]
    },
    {
      "cell_type": "code",
      "source": [
        "!pip install -qU python-dotenv"
      ],
      "metadata": {
        "id": "fZMXxZ7zb5L6"
      },
      "execution_count": null,
      "outputs": []
    },
    {
      "cell_type": "markdown",
      "source": [
        "### Get the OpenAI API key"
      ],
      "metadata": {
        "id": "76PmXrfZcJNQ"
      }
    },
    {
      "cell_type": "code",
      "source": [
        "import dotenv, os\n",
        "dotenv.load_dotenv('/content/variables/.env')\n",
        "openai_api_key = os.getenv('OPEN_AI_API_KEY')"
      ],
      "metadata": {
        "id": "mNbamfZccL5H"
      },
      "execution_count": null,
      "outputs": []
    },
    {
      "cell_type": "markdown",
      "source": [
        "## Import the packages"
      ],
      "metadata": {
        "id": "caiET1HVeXUJ"
      }
    },
    {
      "cell_type": "code",
      "source": [
        "from langchain.llms import OpenAI\n",
        "from langchain.chains import RetrievalQA\n",
        "from langchain.document_loaders import PyPDFLoader\n",
        "from langchain.text_splitter import RecursiveCharacterTextSplitter\n",
        "from langchain.embeddings import OpenAIEmbeddings\n",
        "from langchain.vectorstores import FAISS"
      ],
      "metadata": {
        "id": "vwUrHsbvdIsi"
      },
      "execution_count": null,
      "outputs": []
    },
    {
      "cell_type": "code",
      "source": [
        "## Load PDF \n",
        "loader = PyPDFLoader(\"/content/variables/Attention.pdf\")\n",
        "documents = loader.load()"
      ],
      "metadata": {
        "id": "0wEy09mIeamV"
      },
      "execution_count": null,
      "outputs": []
    },
    {
      "cell_type": "code",
      "source": [
        "len(documents) ## Number of pages in the document"
      ],
      "metadata": {
        "id": "yhQYNBnKe6LE"
      },
      "execution_count": null,
      "outputs": []
    },
    {
      "cell_type": "code",
      "source": [
        "text_splitter = RecursiveCharacterTextSplitter(chunk_size=1000, chunk_overlap=200)\n",
        "texts = text_splitter.split_documents(documents)"
      ],
      "metadata": {
        "id": "AITOgSzZj0tw"
      },
      "execution_count": null,
      "outputs": []
    },
    {
      "cell_type": "code",
      "source": [
        "len(texts)"
      ],
      "metadata": {
        "id": "9M-stbYykNzB"
      },
      "execution_count": null,
      "outputs": []
    },
    {
      "cell_type": "code",
      "source": [
        "texts[0]"
      ],
      "metadata": {
        "id": "vEoisJ3ukRsA"
      },
      "execution_count": null,
      "outputs": []
    },
    {
      "cell_type": "markdown",
      "source": [
        "## Get Embeddings"
      ],
      "metadata": {
        "id": "U8x3sIYZkcx8"
      }
    },
    {
      "cell_type": "code",
      "source": [
        "embeddings = OpenAIEmbeddings()"
      ],
      "metadata": {
        "id": "NF_0ldrpnuGx"
      },
      "execution_count": null,
      "outputs": []
    },
    {
      "cell_type": "code",
      "source": [
        "embedded_docs = FAISS.from_documents(texts, embeddings)\n",
        "retriever = embedded_docs.as_retriever(search_kwargs={\"k\":3}) ## Rretrive 3 documents"
      ],
      "metadata": {
        "id": "cdGIhs0XnyJH"
      },
      "execution_count": null,
      "outputs": []
    },
    {
      "cell_type": "markdown",
      "source": [
        "## Create a chain to answer the questions"
      ],
      "metadata": {
        "id": "dAppj2K9oeLo"
      }
    },
    {
      "cell_type": "code",
      "source": [
        "chain = RetrievalQA.from_chain_type(\n",
        "    llm=OpenAI(temperature=0.0,),\n",
        "    chain_type=\"stuff\",\n",
        "    retriever=retriever,\n",
        "    return_source_documents=True\n",
        ")"
      ],
      "metadata": {
        "id": "F1A_LFL-og3C"
      },
      "execution_count": null,
      "outputs": []
    },
    {
      "cell_type": "code",
      "source": [
        "query = \"What dataset was used?\"\n",
        "\n",
        "response = chain(query)"
      ],
      "metadata": {
        "id": "4ygwkSe8rDoS"
      },
      "execution_count": null,
      "outputs": []
    },
    {
      "cell_type": "code",
      "source": [
        "response"
      ],
      "metadata": {
        "id": "xfRnMqq_sYOW"
      },
      "execution_count": null,
      "outputs": []
    },
    {
      "cell_type": "code",
      "source": [
        "query = \"Who are the authors of Attention is all you need?\"\n",
        "response = chain(query)"
      ],
      "metadata": {
        "id": "P6lFZZ84rm2x"
      },
      "execution_count": null,
      "outputs": []
    },
    {
      "cell_type": "code",
      "source": [
        "response"
      ],
      "metadata": {
        "id": "GNLwpKJdsskr"
      },
      "execution_count": null,
      "outputs": []
    }
  ]
}